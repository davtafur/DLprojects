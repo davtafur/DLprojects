{
 "cells": [
  {
   "cell_type": "code",
   "execution_count": 7,
   "id": "13b9b95f-438d-4e9d-88a1-108f13871a58",
   "metadata": {
    "collapsed": true,
    "jupyter": {
     "outputs_hidden": true
    }
   },
   "outputs": [
    {
     "name": "stdout",
     "output_type": "stream",
     "text": [
      "10049\n"
     ]
    }
   ],
   "source": [
    "import os\n",
    "\n",
    "# folder path\n",
    "dir_path = 'C:/man/work/winspeed/data/train/'\n",
    "#dir_path = 'C:/man/work/winspeed/data/test/'\n",
    "\n",
    "# list jpg files\n",
    "files = [ f for f in os.listdir(dir_path) if f.endswith('.jpg') ]  # create a list of paths for image files\n",
    "\n",
    "print(len(files))"
   ]
  },
  {
   "cell_type": "code",
   "execution_count": 9,
   "id": "2e79aaa9-55a3-4223-8381-2216a36c0795",
   "metadata": {
    "scrolled": true
   },
   "outputs": [],
   "source": [
    "%matplotlib inline\n",
    "\n",
    "\n",
    "from PIL import Image\n",
    "import numpy as np\n",
    "import skimage.io as io\n",
    "import tensorflow as tf\n",
    "import json\n",
    "\n",
    "def _bytes_feature(value):\n",
    "    return tf.train.Feature(bytes_list=tf.train.BytesList(value=[value]))\n",
    "\n",
    "def _FloatList_feature(value):\n",
    "    return tf.train.Feature(float_list=tf.train.FloatList (value=[value]))\n",
    "    \n",
    "tfrecords_filename = 'C:/man/work/winspeed/data/train2.tfrecords'    # name of the void tfrecord file\n",
    "\n",
    "writer = tf.io.TFRecordWriter(tfrecords_filename)\n",
    "\n",
    "#original_images = []\n",
    "for img_path in files:\n",
    "    \n",
    "    f = open(dir_path+img_path[0:len(img_path)-4]+'_label.json')  # open json files to extract the windspeed data\n",
    "    data = json.load(f)\n",
    "    windspeed=float(data['wind_speed'])\n",
    "    f.close()\n",
    "    \n",
    "    img = np.array(Image.open(dir_path+img_path))                \n",
    "    if img.shape[0]==366:\n",
    "        #original_images.append(img)\n",
    "        img_raw = img.tobytes()\n",
    "        example = tf.train.Example(features=tf.train.Features(feature={\n",
    "     \n",
    "            'x': _bytes_feature(img_raw),\n",
    "            'y': _FloatList_feature(windspeed)\n",
    "             }))\n",
    "        writer.write(example.SerializeToString())\n",
    "writer.close()"
   ]
  },
  {
   "cell_type": "code",
   "execution_count": null,
   "id": "f2dcef71-1fc8-48b2-b3fa-22e7fd7204c5",
   "metadata": {},
   "outputs": [],
   "source": []
  }
 ],
 "metadata": {
  "kernelspec": {
   "display_name": "Python 3 (ipykernel)",
   "language": "python",
   "name": "python3"
  },
  "language_info": {
   "codemirror_mode": {
    "name": "ipython",
    "version": 3
   },
   "file_extension": ".py",
   "mimetype": "text/x-python",
   "name": "python",
   "nbconvert_exporter": "python",
   "pygments_lexer": "ipython3",
   "version": "3.11.7"
  }
 },
 "nbformat": 4,
 "nbformat_minor": 5
}
